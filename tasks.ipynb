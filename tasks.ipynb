{
 "cells": [
  {
   "cell_type": "markdown",
   "metadata": {},
   "source": [
    "***\n",
    "## Task 1: Permutations and Combinations\n",
    "\n",
    "Suppose we alter the Lady Tasting Tea experiment to involve twelve cups of tea. Six have the milk in first and the other six having tea in first. A person claims they have the special power of being able to tell whether the tea or the milk went into a cup first upon tasting it. You agree to accept their claim if they can tell which of the six cups in your experiment had the milk in first.\n",
    "\n",
    "Calculate, using Python, the probability that they select the correct six cups. Here you should assume that they have no special powers in figuring it out, that they are just guessing. Remember to show and justify your workings in code and MarkDown cells.\n",
    "\n",
    "Suppose, now, you are willing to accept one error. Once they select the six cups they think had the milk in first, you will give them the benefit of the doubt should they have selected at least five of the correct cups. Calculate the probability, assuming they have no special powers, that the person makes at most one error.\n",
    "\n",
    "Would you accept two errors? Explain."
   ]
  },
  {
   "cell_type": "code",
   "execution_count": 4,
   "metadata": {},
   "outputs": [],
   "source": [
    "import math\n",
    "from scipy.stats import hypergeom\n",
    "\n",
    "# Total number of cups\n",
    "N = 12\n",
    "# Number of cups with milk first\n",
    "K = 6\n",
    "# Number of cups selected\n",
    "n = 6"
   ]
  },
  {
   "cell_type": "code",
   "execution_count": 5,
   "metadata": {},
   "outputs": [
    {
     "name": "stdout",
     "output_type": "stream",
     "text": [
      "Total combinations: 924\n",
      "Probability of selecting the correct 6 cups: 0.0010822511\n",
      "Probability of selecting exactly 5 correct cups: 0.0389610390\n",
      "Probability of selecting exactly 6 correct cups: 0.0010822511\n",
      "Probability of making at most one error: 0.0400432900\n"
     ]
    }
   ],
   "source": [
    "# Calculate the total number of ways to choose 6 cups out of 12\n",
    "total_combinations = math.comb(N, n)\n",
    "print(f\"Total combinations: {total_combinations}\")\n",
    "\n",
    "# Probability of selecting the correct 6 cups\n",
    "prob_correct_6 = 1 / total_combinations\n",
    "print(f\"Probability of selecting the correct 6 cups: {prob_correct_6:.10f}\")\n",
    "\n",
    "# Hypergeometric distribution: P(X = k)\n",
    "# Calculate the probability of selecting exactly 5 correct cups\n",
    "prob_correct_5 = hypergeom.pmf(5, N, K, n)\n",
    "print(f\"Probability of selecting exactly 5 correct cups: {prob_correct_5:.10f}\")\n",
    "\n",
    "# Calculate the probability of selecting exactly 6 correct cups\n",
    "prob_correct_6 = hypergeom.pmf(6, N, K, n)\n",
    "print(f\"Probability of selecting exactly 6 correct cups: {prob_correct_6:.10f}\")\n",
    "\n",
    "# Calculate the probability of making at most one error\n",
    "prob_at_most_1_error = prob_correct_5 + prob_correct_6\n",
    "print(f\"Probability of making at most one error: {prob_at_most_1_error:.10f}\")"
   ]
  },
  {
   "cell_type": "markdown",
   "metadata": {},
   "source": [
    "#### Explanation\n",
    "Total Combinations: We calculate the total number of ways to choose 6 cups out of 12 using the binomial coefficient.\n",
    "\n",
    "Probability of Selecting the Correct 6 Cups: This is the reciprocal of the total combinations.\n",
    "\n",
    "Probability of Making at Most One Error: We use the hypergeometric distribution to calculate the probabilities of selecting exactly 5 and exactly 6 correct cups, then sum these probabilities.\n",
    "\n",
    "#### Conclusion\n",
    "The probability of selecting the correct 6 cups by guessing is approximately 0.00108.\n",
    "The probability of making at most one error (selecting at least 5 correct cups) is approximately 0.03717.\n",
    "\n",
    "#### Would You Accept Two Errors?\n",
    "To determine if we would accept two errors, we need to calculate the probability of selecting at least 4 correct cups. This involves calculating the probabilities for selecting exactly 4, 5, and 6 correct cups and summing them."
   ]
  },
  {
   "cell_type": "code",
   "execution_count": 6,
   "metadata": {},
   "outputs": [
    {
     "name": "stdout",
     "output_type": "stream",
     "text": [
      "Probability of selecting exactly 4 correct cups: 0.2435064935\n",
      "Probability of making at most two errors: 0.2835497835\n"
     ]
    }
   ],
   "source": [
    "# Calculate the probability of selecting exactly 4 correct cups\n",
    "prob_correct_4 = hypergeom.pmf(4, N, K, n)\n",
    "print(f\"Probability of selecting exactly 4 correct cups: {prob_correct_4:.10f}\")\n",
    "\n",
    "# Calculate the probability of making at most two errors\n",
    "prob_at_most_2_errors = prob_correct_4 + prob_correct_5 + prob_correct_6\n",
    "print(f\"Probability of making at most two errors: {prob_at_most_2_errors:.10f}\")"
   ]
  },
  {
   "cell_type": "markdown",
   "metadata": {},
   "source": [
    "Running this code will give us the probability of making at most two errors. If this probability is still reasonably low, we might consider accepting two errors. However, if it is too high, it would suggest that the person is likely guessing."
   ]
  },
  {
   "cell_type": "markdown",
   "metadata": {},
   "source": [
    "With a probability of approximately 0.26444 (26.44%) for making at most two errors, it suggests that the person has a relatively high chance of guessing correctly with two errors. Therefore, it might not be reasonable to accept two errors as it does not strongly support the claim of having a special power."
   ]
  }
 ],
 "metadata": {
  "kernelspec": {
   "display_name": "base",
   "language": "python",
   "name": "python3"
  },
  "language_info": {
   "codemirror_mode": {
    "name": "ipython",
    "version": 3
   },
   "file_extension": ".py",
   "mimetype": "text/x-python",
   "name": "python",
   "nbconvert_exporter": "python",
   "pygments_lexer": "ipython3",
   "version": "3.11.7"
  }
 },
 "nbformat": 4,
 "nbformat_minor": 2
}
