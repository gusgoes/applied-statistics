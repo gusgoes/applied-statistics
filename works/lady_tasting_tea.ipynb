{
 "cells": [
  {
   "cell_type": "markdown",
   "metadata": {},
   "source": [
    "## Permutation and Combination\n",
    "\n",
    "12345678"
   ]
  },
  {
   "cell_type": "code",
   "execution_count": 1,
   "metadata": {},
   "outputs": [
    {
     "data": {
      "text/plain": [
       "70"
      ]
     },
     "execution_count": 1,
     "metadata": {},
     "output_type": "execute_result"
    }
   ],
   "source": [
    "import math\n",
    "\n",
    "no_cups = 8\n",
    "\n",
    "no_cups_milk_first = 4\n",
    "no_cups_tea_first = 4\n",
    "\n",
    "ways = math.comb(no_cups, no_cups_milk_first)\n",
    "\n",
    "ways_ordered = 8*7*6*5\n",
    "\n",
    "no_shuffles = 4*3*2*1\n",
    "\n",
    "no_combs = ways_ordered//no_shuffles\n",
    "\n",
    "no_combs"
   ]
  },
  {
   "cell_type": "code",
   "execution_count": 2,
   "metadata": {},
   "outputs": [
    {
     "data": {
      "text/plain": [
       "70.0"
      ]
     },
     "execution_count": 2,
     "metadata": {},
     "output_type": "execute_result"
    }
   ],
   "source": [
    "# Number of tea in total\n",
    "\n",
    "n = 8\n",
    "\n",
    "# Number of tea in milk first\n",
    "\n",
    "k = 4\n",
    "\n",
    "# Math factorial\n",
    "\n",
    "math.factorial(n)\n",
    "math.factorial(k)\n",
    "math.factorial(n-k)\n",
    "\n",
    "# Math combinatorial\n",
    "\n",
    "math.factorial(n)/(math.factorial(k)*math.factorial(n-k))"
   ]
  },
  {
   "cell_type": "code",
   "execution_count": 3,
   "metadata": {},
   "outputs": [
    {
     "data": {
      "text/plain": [
       "<itertools.combinations at 0x291c42d5c60>"
      ]
     },
     "execution_count": 3,
     "metadata": {},
     "output_type": "execute_result"
    }
   ],
   "source": [
    "import itertools\n",
    "\n",
    "itertools.combinations(range(no_cups), no_cups_milk_first)"
   ]
  },
  {
   "cell_type": "code",
   "execution_count": 4,
   "metadata": {},
   "outputs": [
    {
     "name": "stdout",
     "output_type": "stream",
     "text": [
      "[0, 1, 2, 3, 4, 5, 6, 7]\n",
      "[(0, 1, 2, 3), (0, 1, 2, 4), (0, 1, 2, 5), (0, 1, 2, 6), (0, 1, 2, 7), (0, 1, 3, 4), (0, 1, 3, 5), (0, 1, 3, 6), (0, 1, 3, 7), (0, 1, 4, 5), (0, 1, 4, 6), (0, 1, 4, 7), (0, 1, 5, 6), (0, 1, 5, 7), (0, 1, 6, 7), (0, 2, 3, 4), (0, 2, 3, 5), (0, 2, 3, 6), (0, 2, 3, 7), (0, 2, 4, 5), (0, 2, 4, 6), (0, 2, 4, 7), (0, 2, 5, 6), (0, 2, 5, 7), (0, 2, 6, 7), (0, 3, 4, 5), (0, 3, 4, 6), (0, 3, 4, 7), (0, 3, 5, 6), (0, 3, 5, 7), (0, 3, 6, 7), (0, 4, 5, 6), (0, 4, 5, 7), (0, 4, 6, 7), (0, 5, 6, 7), (1, 2, 3, 4), (1, 2, 3, 5), (1, 2, 3, 6), (1, 2, 3, 7), (1, 2, 4, 5), (1, 2, 4, 6), (1, 2, 4, 7), (1, 2, 5, 6), (1, 2, 5, 7), (1, 2, 6, 7), (1, 3, 4, 5), (1, 3, 4, 6), (1, 3, 4, 7), (1, 3, 5, 6), (1, 3, 5, 7), (1, 3, 6, 7), (1, 4, 5, 6), (1, 4, 5, 7), (1, 4, 6, 7), (1, 5, 6, 7), (2, 3, 4, 5), (2, 3, 4, 6), (2, 3, 4, 7), (2, 3, 5, 6), (2, 3, 5, 7), (2, 3, 6, 7), (2, 4, 5, 6), (2, 4, 5, 7), (2, 4, 6, 7), (2, 5, 6, 7), (3, 4, 5, 6), (3, 4, 5, 7), (3, 4, 6, 7), (3, 5, 6, 7), (4, 5, 6, 7)]\n"
     ]
    }
   ],
   "source": [
    "# cups labels\n",
    "\n",
    "labels = list(range(no_cups))\n",
    "\n",
    "#show\n",
    "print(labels)\n",
    "\n",
    "combs = list(itertools.combinations(labels, no_cups_milk_first))\n",
    "print(combs)"
   ]
  },
  {
   "cell_type": "code",
   "execution_count": 5,
   "metadata": {},
   "outputs": [
    {
     "data": {
      "text/plain": [
       "[1, 2, 5, 6]"
      ]
     },
     "execution_count": 5,
     "metadata": {},
     "output_type": "execute_result"
    }
   ],
   "source": [
    "import random\n",
    "\n",
    "labels_milk = random.sample(labels, no_cups_milk_first)\n",
    "labels_milk.sort()\n",
    "labels_milk"
   ]
  },
  {
   "cell_type": "code",
   "execution_count": 6,
   "metadata": {},
   "outputs": [
    {
     "name": "stdout",
     "output_type": "stream",
     "text": [
      "(0, 1, 2, 3) {1, 2} 2\n",
      "(0, 1, 2, 4) {1, 2} 2\n",
      "(0, 1, 2, 5) {1, 2, 5} 3\n",
      "(0, 1, 2, 6) {1, 2, 6} 3\n",
      "(0, 1, 2, 7) {1, 2} 2\n",
      "(0, 1, 3, 4) {1} 1\n",
      "(0, 1, 3, 5) {1, 5} 2\n",
      "(0, 1, 3, 6) {1, 6} 2\n",
      "(0, 1, 3, 7) {1} 1\n",
      "(0, 1, 4, 5) {1, 5} 2\n",
      "(0, 1, 4, 6) {1, 6} 2\n",
      "(0, 1, 4, 7) {1} 1\n",
      "(0, 1, 5, 6) {1, 5, 6} 3\n",
      "(0, 1, 5, 7) {1, 5} 2\n",
      "(0, 1, 6, 7) {1, 6} 2\n",
      "(0, 2, 3, 4) {2} 1\n",
      "(0, 2, 3, 5) {2, 5} 2\n",
      "(0, 2, 3, 6) {2, 6} 2\n",
      "(0, 2, 3, 7) {2} 1\n",
      "(0, 2, 4, 5) {2, 5} 2\n",
      "(0, 2, 4, 6) {2, 6} 2\n",
      "(0, 2, 4, 7) {2} 1\n",
      "(0, 2, 5, 6) {2, 5, 6} 3\n",
      "(0, 2, 5, 7) {2, 5} 2\n",
      "(0, 2, 6, 7) {2, 6} 2\n",
      "(0, 3, 4, 5) {5} 1\n",
      "(0, 3, 4, 6) {6} 1\n",
      "(0, 3, 4, 7) set() 0\n",
      "(0, 3, 5, 6) {5, 6} 2\n",
      "(0, 3, 5, 7) {5} 1\n",
      "(0, 3, 6, 7) {6} 1\n",
      "(0, 4, 5, 6) {5, 6} 2\n",
      "(0, 4, 5, 7) {5} 1\n",
      "(0, 4, 6, 7) {6} 1\n",
      "(0, 5, 6, 7) {5, 6} 2\n",
      "(1, 2, 3, 4) {1, 2} 2\n",
      "(1, 2, 3, 5) {1, 2, 5} 3\n",
      "(1, 2, 3, 6) {1, 2, 6} 3\n",
      "(1, 2, 3, 7) {1, 2} 2\n",
      "(1, 2, 4, 5) {1, 2, 5} 3\n",
      "(1, 2, 4, 6) {1, 2, 6} 3\n",
      "(1, 2, 4, 7) {1, 2} 2\n",
      "(1, 2, 5, 6) {1, 2, 5, 6} 4\n",
      "(1, 2, 5, 7) {1, 2, 5} 3\n",
      "(1, 2, 6, 7) {1, 2, 6} 3\n",
      "(1, 3, 4, 5) {1, 5} 2\n",
      "(1, 3, 4, 6) {1, 6} 2\n",
      "(1, 3, 4, 7) {1} 1\n",
      "(1, 3, 5, 6) {1, 5, 6} 3\n",
      "(1, 3, 5, 7) {1, 5} 2\n",
      "(1, 3, 6, 7) {1, 6} 2\n",
      "(1, 4, 5, 6) {1, 5, 6} 3\n",
      "(1, 4, 5, 7) {1, 5} 2\n",
      "(1, 4, 6, 7) {1, 6} 2\n",
      "(1, 5, 6, 7) {1, 5, 6} 3\n",
      "(2, 3, 4, 5) {2, 5} 2\n",
      "(2, 3, 4, 6) {2, 6} 2\n",
      "(2, 3, 4, 7) {2} 1\n",
      "(2, 3, 5, 6) {2, 5, 6} 3\n",
      "(2, 3, 5, 7) {2, 5} 2\n",
      "(2, 3, 6, 7) {2, 6} 2\n",
      "(2, 4, 5, 6) {2, 5, 6} 3\n",
      "(2, 4, 5, 7) {2, 5} 2\n",
      "(2, 4, 6, 7) {2, 6} 2\n",
      "(2, 5, 6, 7) {2, 5, 6} 3\n",
      "(3, 4, 5, 6) {5, 6} 2\n",
      "(3, 4, 5, 7) {5} 1\n",
      "(3, 4, 6, 7) {6} 1\n",
      "(3, 5, 6, 7) {5, 6} 2\n",
      "(4, 5, 6, 7) {5, 6} 2\n",
      "[2, 2, 3, 3, 2, 1, 2, 2, 1, 2, 2, 1, 3, 2, 2, 1, 2, 2, 1, 2, 2, 1, 3, 2, 2, 1, 1, 0, 2, 1, 1, 2, 1, 1, 2, 2, 3, 3, 2, 3, 3, 2, 4, 3, 3, 2, 2, 1, 3, 2, 2, 3, 2, 2, 3, 2, 2, 1, 3, 2, 2, 3, 2, 2, 3, 2, 1, 1, 2, 2]\n"
     ]
    }
   ],
   "source": [
    "# Calculate the overlap between each element in the list\n",
    "\n",
    "no_overlaps = []\n",
    "\n",
    "for comb in combs:\n",
    "    s1 = set(comb)\n",
    "    s2 = set(labels_milk)\n",
    "    overlap = s1.intersection(s2)\n",
    "    print(comb, overlap, len(overlap))\n",
    "    no_overlaps.append(len(overlap))\n",
    "print(no_overlaps)"
   ]
  },
  {
   "cell_type": "code",
   "execution_count": 7,
   "metadata": {},
   "outputs": [],
   "source": [
    "import numpy as np\n",
    "\n",
    "counts = np.unique(no_overlaps, return_counts=True)"
   ]
  },
  {
   "cell_type": "code",
   "execution_count": 8,
   "metadata": {},
   "outputs": [
    {
     "data": {
      "text/plain": [
       "(array([ 1., 16., 36., 16.,  1.]),\n",
       " array([0., 1., 2., 3., 4., 5.]),\n",
       " <BarContainer object of 5 artists>)"
      ]
     },
     "execution_count": 8,
     "metadata": {},
     "output_type": "execute_result"
    },
    {
     "data": {
      "image/png": "[encoded data removed]",
      "text/plain": [
       "<Figure size 640x480 with 1 Axes>"
      ]
     },
     "metadata": {},
     "output_type": "display_data"
    }
   ],
   "source": [
    "import matplotlib.pyplot as plt\n",
    "\n",
    "plt.hist(no_overlaps, bins=range(0, no_cups_milk_first+2), align='left', rwidth=0.8)"
   ]
  },
  {
   "cell_type": "code",
   "execution_count": 9,
   "metadata": {},
   "outputs": [],
   "source": [
    "# Null hypothesis: the overlap is random\n",
    "\n",
    "\n",
    "\n"
   ]
  }
 ],
 "metadata": {
  "kernelspec": {
   "display_name": "base",
   "language": "python",
   "name": "python3"
  },
  "language_info": {
   "codemirror_mode": {
    "name": "ipython",
    "version": 3
   },
   "file_extension": ".py",
   "mimetype": "text/x-python",
   "name": "python",
   "nbconvert_exporter": "python",
   "pygments_lexer": "ipython3",
   "version": "3.11.7"
  }
 },
 "nbformat": 4,
 "nbformat_minor": 2
}
